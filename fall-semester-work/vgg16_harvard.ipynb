{
  "cells": [
    {
      "cell_type": "code",
      "execution_count": null,
      "metadata": {
        "colab": {
          "base_uri": "https://localhost:8080/"
        },
        "id": "EZrmeEnUTeF6",
        "outputId": "6238cb22-2a9e-41c2-82cf-6aa2830e8e28"
      },
      "outputs": [
        {
          "output_type": "stream",
          "name": "stdout",
          "text": [
            "Drive already mounted at /gdrive; to attempt to forcibly remount, call drive.mount(\"/gdrive\", force_remount=True).\n"
          ]
        }
      ],
      "source": [
        "\"\"\"\n",
        "a Google Colab notebook to test the VGG16 neural network as implemented here:\n",
        "https://github.com/saikat15010/Brain-Tumor-Detection/blob/main/VGG16_on_Harvard_Medical_Dataset.ipynb\n",
        "Code in this notebook is copied as closely from the source as possible, except for comments and changes\n",
        "to the file directory path due to issues specific on my end.\n",
        "\"\"\"\n",
        "\n",
        "from google.colab import drive\n",
        "drive.mount('/gdrive')"
      ]
    },
    {
      "cell_type": "code",
      "execution_count": null,
      "metadata": {
        "id": "tzFPj1ehUptN"
      },
      "outputs": [],
      "source": [
        "import tensorflow as tf\n",
        "import numpy as np\n",
        "import pandas as pd\n",
        "import os\n",
        "import tensorflow as tf\n",
        "import keras\n",
        "import matplotlib.pyplot as plt\n",
        "from tensorflow.keras.layers import Dense, GlobalAveragePooling2D,Dropout,BatchNormalization\n",
        "from tensorflow.keras.applications.vgg16 import VGG16\n",
        "from tensorflow.keras.applications.vgg19 import VGG19\n",
        "from tensorflow.keras.preprocessing import image\n",
        "from tensorflow.keras.applications.vgg16 import preprocess_input\n",
        "from tensorflow.keras.preprocessing.image import ImageDataGenerator\n",
        "from tensorflow.keras.models import Model\n",
        "from tensorflow.keras.optimizers import Adam\n",
        "from PIL import Image\n",
        "import warnings\n",
        "warnings.filterwarnings(\"ignore\")\n",
        "\n",
        "from tensorflow.keras.applications.inception_v3 import InceptionV3"
      ]
    },
    {
      "cell_type": "code",
      "execution_count": null,
      "metadata": {
        "id": "qLY16hJ8VM7v"
      },
      "outputs": [],
      "source": [
        "image_size = [256,256]\n",
        "# current dir for colab appears to be in the /content folder\n",
        "data_path = '../gdrive/MyDrive/healthcare research data/Harvard Medical Dataset2'"
      ]
    },
    {
      "cell_type": "code",
      "source": [
        "print(image_size+[3])"
      ],
      "metadata": {
        "colab": {
          "base_uri": "https://localhost:8080/"
        },
        "id": "xWXj4DtZbNQb",
        "outputId": "57ae9499-29c9-47c7-bd48-99aa7beed8e6"
      },
      "execution_count": null,
      "outputs": [
        {
          "output_type": "stream",
          "name": "stdout",
          "text": [
            "[512, 512, 3]\n"
          ]
        }
      ]
    },
    {
      "cell_type": "code",
      "execution_count": null,
      "metadata": {
        "colab": {
          "base_uri": "https://localhost:8080/"
        },
        "id": "awQi0T3pVa0_",
        "outputId": "5a5412d6-9784-461a-9f5d-950d071942fa"
      },
      "outputs": [
        {
          "output_type": "execute_result",
          "data": {
            "text/plain": [
              "<KerasTensor: shape=(None, 8, 8, 512) dtype=float32 (created by layer 'block5_pool')>"
            ]
          },
          "metadata": {},
          "execution_count": 42
        }
      ],
      "source": [
        "conv = VGG16(input_shape=image_size+[3], weights='imagenet', include_top=False)\n",
        "conv.trainable=False # see comments below\n",
        "conv.output"
      ]
    },
    {
      "cell_type": "code",
      "execution_count": null,
      "metadata": {
        "colab": {
          "base_uri": "https://localhost:8080/"
        },
        "id": "Uzib9RHbVjDW",
        "outputId": "8d6b9138-5be6-4882-9453-8981f49daa20"
      },
      "outputs": [
        {
          "output_type": "stream",
          "name": "stdout",
          "text": [
            "Model: \"model_5\"\n",
            "_________________________________________________________________\n",
            " Layer (type)                Output Shape              Param #   \n",
            "=================================================================\n",
            " input_10 (InputLayer)       [(None, 256, 256, 3)]     0         \n",
            "                                                                 \n",
            " block1_conv1 (Conv2D)       (None, 256, 256, 64)      1792      \n",
            "                                                                 \n",
            " block1_conv2 (Conv2D)       (None, 256, 256, 64)      36928     \n",
            "                                                                 \n",
            " block1_pool (MaxPooling2D)  (None, 128, 128, 64)      0         \n",
            "                                                                 \n",
            " block2_conv1 (Conv2D)       (None, 128, 128, 128)     73856     \n",
            "                                                                 \n",
            " block2_conv2 (Conv2D)       (None, 128, 128, 128)     147584    \n",
            "                                                                 \n",
            " block2_pool (MaxPooling2D)  (None, 64, 64, 128)       0         \n",
            "                                                                 \n",
            " block3_conv1 (Conv2D)       (None, 64, 64, 256)       295168    \n",
            "                                                                 \n",
            " block3_conv2 (Conv2D)       (None, 64, 64, 256)       590080    \n",
            "                                                                 \n",
            " block3_conv3 (Conv2D)       (None, 64, 64, 256)       590080    \n",
            "                                                                 \n",
            " block3_pool (MaxPooling2D)  (None, 32, 32, 256)       0         \n",
            "                                                                 \n",
            " block4_conv1 (Conv2D)       (None, 32, 32, 512)       1180160   \n",
            "                                                                 \n",
            " block4_conv2 (Conv2D)       (None, 32, 32, 512)       2359808   \n",
            "                                                                 \n",
            " block4_conv3 (Conv2D)       (None, 32, 32, 512)       2359808   \n",
            "                                                                 \n",
            " block4_pool (MaxPooling2D)  (None, 16, 16, 512)       0         \n",
            "                                                                 \n",
            " block5_conv1 (Conv2D)       (None, 16, 16, 512)       2359808   \n",
            "                                                                 \n",
            " block5_conv2 (Conv2D)       (None, 16, 16, 512)       2359808   \n",
            "                                                                 \n",
            " block5_conv3 (Conv2D)       (None, 16, 16, 512)       2359808   \n",
            "                                                                 \n",
            " block5_pool (MaxPooling2D)  (None, 8, 8, 512)         0         \n",
            "                                                                 \n",
            " global_average_pooling2d_5  (None, 512)               0         \n",
            "  (GlobalAveragePooling2D)                                       \n",
            "                                                                 \n",
            " dense_20 (Dense)            (None, 1024)              525312    \n",
            "                                                                 \n",
            " dense_21 (Dense)            (None, 1024)              1049600   \n",
            "                                                                 \n",
            " dense_22 (Dense)            (None, 512)               524800    \n",
            "                                                                 \n",
            " dropout_5 (Dropout)         (None, 512)               0         \n",
            "                                                                 \n",
            " dense_23 (Dense)            (None, 2)                 1026      \n",
            "                                                                 \n",
            "=================================================================\n",
            "Total params: 16815426 (64.15 MB)\n",
            "Trainable params: 2100738 (8.01 MB)\n",
            "Non-trainable params: 14714688 (56.13 MB)\n",
            "_________________________________________________________________\n"
          ]
        }
      ],
      "source": [
        "x = conv.output\n",
        "x = GlobalAveragePooling2D()(x)\n",
        "x = Dense(1024,activation='relu')(x)\n",
        "x = Dense(1024,activation='relu')(x)\n",
        "x = Dense(512, activation='relu')(x)\n",
        "x=  Dropout(.2)(x)\n",
        "pred = Dense(2,activation='softmax')(x)\n",
        "model = Model(inputs=conv.input, outputs=pred)\n",
        "# The source material has only 2,100,738 trainables and 14,714,688 non-trainables.\n",
        "# I am unable to replicate it here.\n",
        "# Coincidence: only the stuff after GlobalAvgPooling adds up to the trainables count.\n",
        "# Attempting to set the conv to not-trainable.\n",
        "model.summary()"
      ]
    },
    {
      "cell_type": "code",
      "execution_count": null,
      "metadata": {
        "colab": {
          "base_uri": "https://localhost:8080/"
        },
        "id": "7tETYD-qV4BG",
        "outputId": "21f4a49b-601b-4b3e-c78a-4f7262fbf35e"
      },
      "outputs": [
        {
          "output_type": "stream",
          "name": "stdout",
          "text": [
            "Found 122 images belonging to 2 classes.\n",
            "Found 30 images belonging to 2 classes.\n"
          ]
        }
      ],
      "source": [
        "train_datagen=ImageDataGenerator(\n",
        "    rescale=1/255,\n",
        "    shear_range = 0.2,\n",
        "    zoom_range = 0.2,\n",
        "    horizontal_flip = True,\n",
        "    width_shift_range=0.1,\n",
        "    height_shift_range=0.1,\n",
        "    vertical_flip=True,\n",
        "    validation_split=0.2)\n",
        "\n",
        "train_generator=train_datagen.flow_from_directory(data_path,\n",
        "                                                  target_size=(256,256),\n",
        "                                                  color_mode='rgb',\n",
        "                                                  shuffle=False,\n",
        "                                                  subset='training',\n",
        "                                                  batch_size=10,\n",
        "                                                  class_mode='categorical')\n",
        "val_generator = train_datagen.flow_from_directory(data_path,\n",
        "                                                  target_size=(256,256),\n",
        "                                                  color_mode='rgb',\n",
        "                                                  shuffle=False,\n",
        "                                                  subset='validation',\n",
        "                                                  batch_size=10,\n",
        "                                                  class_mode='categorical')\n",
        "\n",
        "model.compile(optimizer='Adam', loss='categorical_crossentropy', metrics=['accuracy'])"
      ]
    },
    {
      "cell_type": "code",
      "execution_count": null,
      "metadata": {
        "colab": {
          "base_uri": "https://localhost:8080/"
        },
        "id": "bBXOmS86WcKl",
        "outputId": "7952b01a-faee-4672-997b-012343455f26"
      },
      "outputs": [
        {
          "output_type": "stream",
          "name": "stdout",
          "text": [
            " Brain_MRI2  'Harvard Medical Dataset2'\n"
          ]
        }
      ],
      "source": [
        "! ls ../gdrive/MyDrive/\"healthcare research data\""
      ]
    },
    {
      "cell_type": "code",
      "execution_count": null,
      "metadata": {
        "colab": {
          "base_uri": "https://localhost:8080/"
        },
        "id": "07LWxEtFW5lX",
        "outputId": "13325e2c-252c-4c4f-c85d-05366b5f018a"
      },
      "outputs": [
        {
          "output_type": "stream",
          "name": "stdout",
          "text": [
            "122\n",
            "10\n",
            "7\n",
            "30\n",
            "10\n"
          ]
        }
      ],
      "source": [
        "print(train_generator.n)\n",
        "print(train_generator.batch_size)\n",
        "print(242//32)\n",
        "print(val_generator.n)\n",
        "print(val_generator.batch_size)"
      ]
    },
    {
      "cell_type": "code",
      "execution_count": null,
      "metadata": {
        "colab": {
          "base_uri": "https://localhost:8080/"
        },
        "id": "PSVJfl9iW-WC",
        "outputId": "4cd18002-2089-4fd1-9865-e0a9a321c113"
      },
      "outputs": [
        {
          "output_type": "stream",
          "name": "stdout",
          "text": [
            "Epoch 1/40\n",
            "12/12 [==============================] - 6s 310ms/step - loss: 1.4180 - accuracy: 0.3571 - val_loss: 0.6920 - val_accuracy: 0.5333\n",
            "Epoch 2/40\n",
            "12/12 [==============================] - 3s 239ms/step - loss: 0.8284 - accuracy: 0.4667 - val_loss: 0.6953 - val_accuracy: 0.4667\n",
            "Epoch 3/40\n",
            "12/12 [==============================] - 3s 229ms/step - loss: 0.7401 - accuracy: 0.3036 - val_loss: 0.6834 - val_accuracy: 0.5333\n",
            "Epoch 4/40\n",
            "12/12 [==============================] - 4s 351ms/step - loss: 0.7357 - accuracy: 0.4911 - val_loss: 0.6837 - val_accuracy: 0.9000\n",
            "Epoch 5/40\n",
            "12/12 [==============================] - 3s 230ms/step - loss: 0.7053 - accuracy: 0.4107 - val_loss: 0.6773 - val_accuracy: 0.5667\n",
            "Epoch 6/40\n",
            "12/12 [==============================] - 3s 244ms/step - loss: 0.6999 - accuracy: 0.5089 - val_loss: 0.6780 - val_accuracy: 0.4667\n",
            "Epoch 7/40\n",
            "12/12 [==============================] - 3s 238ms/step - loss: 0.6889 - accuracy: 0.4911 - val_loss: 0.6299 - val_accuracy: 0.9333\n",
            "Epoch 8/40\n",
            "12/12 [==============================] - 4s 341ms/step - loss: 0.7358 - accuracy: 0.4821 - val_loss: 0.6555 - val_accuracy: 0.8333\n",
            "Epoch 9/40\n",
            "12/12 [==============================] - 3s 250ms/step - loss: 0.6294 - accuracy: 0.8333 - val_loss: 0.5782 - val_accuracy: 0.7333\n",
            "Epoch 10/40\n",
            "12/12 [==============================] - 3s 236ms/step - loss: 0.5235 - accuracy: 0.8214 - val_loss: 0.2843 - val_accuracy: 0.9333\n",
            "Epoch 11/40\n",
            "12/12 [==============================] - 4s 339ms/step - loss: 0.6740 - accuracy: 0.7411 - val_loss: 0.7750 - val_accuracy: 0.5000\n",
            "Epoch 12/40\n",
            "12/12 [==============================] - 3s 227ms/step - loss: 0.6732 - accuracy: 0.6518 - val_loss: 0.4203 - val_accuracy: 0.9000\n",
            "Epoch 13/40\n",
            "12/12 [==============================] - 4s 298ms/step - loss: 0.3870 - accuracy: 0.8393 - val_loss: 0.1885 - val_accuracy: 0.9667\n",
            "Epoch 14/40\n",
            "12/12 [==============================] - 3s 278ms/step - loss: 0.1922 - accuracy: 0.9500 - val_loss: 1.5328 - val_accuracy: 0.6000\n",
            "Epoch 15/40\n",
            "12/12 [==============================] - 3s 262ms/step - loss: 0.6925 - accuracy: 0.7054 - val_loss: 0.3280 - val_accuracy: 0.8667\n",
            "Epoch 16/40\n",
            "12/12 [==============================] - 4s 307ms/step - loss: 0.3540 - accuracy: 0.8482 - val_loss: 0.1864 - val_accuracy: 1.0000\n",
            "Epoch 17/40\n",
            "12/12 [==============================] - 3s 226ms/step - loss: 0.2127 - accuracy: 0.9375 - val_loss: 0.2561 - val_accuracy: 0.9000\n",
            "Epoch 18/40\n",
            "12/12 [==============================] - 3s 227ms/step - loss: 0.1604 - accuracy: 0.9286 - val_loss: 0.0749 - val_accuracy: 0.9667\n",
            "Epoch 19/40\n",
            "12/12 [==============================] - 3s 294ms/step - loss: 0.0857 - accuracy: 0.9643 - val_loss: 0.1678 - val_accuracy: 0.9667\n",
            "Epoch 20/40\n",
            "12/12 [==============================] - 4s 316ms/step - loss: 0.0462 - accuracy: 0.9821 - val_loss: 0.0630 - val_accuracy: 0.9667\n",
            "Epoch 21/40\n",
            "12/12 [==============================] - 3s 225ms/step - loss: 0.1358 - accuracy: 0.9464 - val_loss: 0.0041 - val_accuracy: 1.0000\n",
            "Epoch 22/40\n",
            "12/12 [==============================] - 3s 224ms/step - loss: 0.1987 - accuracy: 0.9107 - val_loss: 0.4893 - val_accuracy: 0.8000\n",
            "Epoch 23/40\n",
            "12/12 [==============================] - 3s 267ms/step - loss: 0.1567 - accuracy: 0.9196 - val_loss: 0.0475 - val_accuracy: 0.9667\n",
            "Epoch 24/40\n",
            "12/12 [==============================] - 4s 335ms/step - loss: 0.0816 - accuracy: 0.9732 - val_loss: 0.0970 - val_accuracy: 0.9667\n",
            "Epoch 25/40\n",
            "12/12 [==============================] - 3s 227ms/step - loss: 0.0668 - accuracy: 0.9554 - val_loss: 0.2845 - val_accuracy: 0.9000\n",
            "Epoch 26/40\n",
            "12/12 [==============================] - 3s 233ms/step - loss: 0.0353 - accuracy: 0.9911 - val_loss: 0.0571 - val_accuracy: 1.0000\n",
            "Epoch 27/40\n",
            "12/12 [==============================] - 4s 322ms/step - loss: 0.0265 - accuracy: 0.9911 - val_loss: 0.2794 - val_accuracy: 0.9000\n",
            "Epoch 28/40\n",
            "12/12 [==============================] - 3s 241ms/step - loss: 0.0261 - accuracy: 0.9917 - val_loss: 0.0059 - val_accuracy: 1.0000\n",
            "Epoch 29/40\n",
            "12/12 [==============================] - 3s 240ms/step - loss: 0.0041 - accuracy: 1.0000 - val_loss: 0.0282 - val_accuracy: 1.0000\n",
            "Epoch 30/40\n",
            "12/12 [==============================] - 5s 402ms/step - loss: 0.0086 - accuracy: 1.0000 - val_loss: 0.2031 - val_accuracy: 0.9333\n",
            "Epoch 31/40\n",
            "12/12 [==============================] - 3s 267ms/step - loss: 0.0086 - accuracy: 1.0000 - val_loss: 0.2646 - val_accuracy: 0.9333\n",
            "Epoch 32/40\n",
            "12/12 [==============================] - 3s 265ms/step - loss: 0.0053 - accuracy: 1.0000 - val_loss: 0.4807 - val_accuracy: 0.9000\n",
            "Epoch 33/40\n",
            "12/12 [==============================] - 3s 240ms/step - loss: 0.0321 - accuracy: 0.9911 - val_loss: 0.0085 - val_accuracy: 1.0000\n",
            "Epoch 34/40\n",
            "12/12 [==============================] - 3s 237ms/step - loss: 0.2972 - accuracy: 0.8839 - val_loss: 0.1042 - val_accuracy: 0.9667\n",
            "Epoch 35/40\n",
            "12/12 [==============================] - 3s 236ms/step - loss: 0.1599 - accuracy: 0.9464 - val_loss: 0.2226 - val_accuracy: 0.9000\n",
            "Epoch 36/40\n",
            "12/12 [==============================] - 3s 228ms/step - loss: 0.0365 - accuracy: 0.9911 - val_loss: 0.1048 - val_accuracy: 0.9333\n",
            "Epoch 37/40\n",
            "12/12 [==============================] - 3s 231ms/step - loss: 0.0142 - accuracy: 1.0000 - val_loss: 0.1122 - val_accuracy: 0.9667\n",
            "Epoch 38/40\n",
            "12/12 [==============================] - 4s 356ms/step - loss: 0.0063 - accuracy: 1.0000 - val_loss: 0.0261 - val_accuracy: 1.0000\n",
            "Epoch 39/40\n",
            "12/12 [==============================] - 3s 246ms/step - loss: 0.0058 - accuracy: 1.0000 - val_loss: 0.2741 - val_accuracy: 0.8667\n",
            "Epoch 40/40\n",
            "12/12 [==============================] - 3s 233ms/step - loss: 0.0033 - accuracy: 1.0000 - val_loss: 0.2042 - val_accuracy: 0.9333\n"
          ]
        }
      ],
      "source": [
        "step_size_train=train_generator.n//train_generator.batch_size\n",
        "# After setting conv to non-trainable,\n",
        "# the model started to get work done.\n",
        "# Accuracy reached 1.0.\n",
        "history = model.fit_generator(generator=train_generator,\n",
        "                              steps_per_epoch=step_size_train,\n",
        "                              epochs=40,\n",
        "                              verbose=1,\n",
        "                              validation_data=val_generator)"
      ]
    },
    {
      "cell_type": "code",
      "source": [
        "from sklearn.metrics import classification_report, confusion_matrix\n",
        "import seaborn as sns\n",
        "\n",
        "# for making a confusion matrix and a classification report\n",
        "Y_pred = model.predict_generator(val_generator, val_generator.n // val_generator.batch_size+1)\n",
        "y_pred = np.argmax(Y_pred, axis=1)\n"
      ],
      "metadata": {
        "colab": {
          "base_uri": "https://localhost:8080/"
        },
        "id": "al9XdU4jZhkZ",
        "outputId": "4a3254dd-b6e9-4c34-bad4-a8440b6e1ece"
      },
      "execution_count": null,
      "outputs": [
        {
          "output_type": "stream",
          "name": "stderr",
          "text": [
            "WARNING:tensorflow:Your input ran out of data; interrupting training. Make sure that your dataset or generator can generate at least `steps_per_epoch * epochs` batches (in this case, 4 batches). You may need to use the repeat() function when building your dataset.\n"
          ]
        }
      ]
    },
    {
      "cell_type": "code",
      "source": [
        "print(val_generator.classes)\n",
        "\n",
        "print('Confusion Matrix')\n",
        "\"\"\"\n",
        "The conf matrix ranges from:\n",
        "16 0\n",
        "1 13\n",
        "to\n",
        "16 0\n",
        "3 11\n",
        "changing after every time the cell above is run.\n",
        "Though as of the last 10 or so runs it has settled on the better conf matrix.\n",
        "\"\"\"\n",
        "print(confusion_matrix(val_generator.classes, y_pred))"
      ],
      "metadata": {
        "colab": {
          "base_uri": "https://localhost:8080/"
        },
        "id": "ckRlBMdXZ7q-",
        "outputId": "ffa411d8-3450-4675-9244-91b18c54af72"
      },
      "execution_count": null,
      "outputs": [
        {
          "output_type": "stream",
          "name": "stdout",
          "text": [
            "[0 0 0 0 0 0 0 0 0 0 0 0 0 0 0 0 1 1 1 1 1 1 1 1 1 1 1 1 1 1]\n",
            "Confusion Matrix\n",
            "[[16  0]\n",
            " [ 1 13]]\n"
          ]
        }
      ]
    },
    {
      "cell_type": "code",
      "source": [
        "from sklearn.metrics import accuracy_score\n",
        "print('Accuracy Score :',accuracy_score(val_generator.classes,y_pred))\n",
        "print('Report : ')\n",
        "print(classification_report(val_generator.classes,y_pred))\n",
        "# Almost perfect, but as the conf matrix suggests it isn't."
      ],
      "metadata": {
        "colab": {
          "base_uri": "https://localhost:8080/"
        },
        "id": "K7l1-7rOfUga",
        "outputId": "ac818a70-bbd3-4a04-f06a-589abc9b9041"
      },
      "execution_count": null,
      "outputs": [
        {
          "output_type": "stream",
          "name": "stdout",
          "text": [
            "Accuracy Score : 0.9666666666666667\n",
            "Report : \n",
            "              precision    recall  f1-score   support\n",
            "\n",
            "           0       0.94      1.00      0.97        16\n",
            "           1       1.00      0.93      0.96        14\n",
            "\n",
            "    accuracy                           0.97        30\n",
            "   macro avg       0.97      0.96      0.97        30\n",
            "weighted avg       0.97      0.97      0.97        30\n",
            "\n"
          ]
        }
      ]
    },
    {
      "cell_type": "code",
      "source": [
        "import numpy as np\n",
        "from sklearn import metrics\n",
        "fpr, tpr, thresholds = metrics.roc_curve(val_generator.classes, y_pred, pos_label=1)\n",
        "metrics.auc(fpr, tpr)"
      ],
      "metadata": {
        "colab": {
          "base_uri": "https://localhost:8080/"
        },
        "id": "VWIVQ9dNf1-O",
        "outputId": "88552bca-c73b-4841-8400-416cb8b002c1"
      },
      "execution_count": null,
      "outputs": [
        {
          "output_type": "execute_result",
          "data": {
            "text/plain": [
              "0.9642857142857143"
            ]
          },
          "metadata": {},
          "execution_count": 65
        }
      ]
    },
    {
      "cell_type": "code",
      "source": [
        "fig, ax = plt.subplots(figsize=(8,5))\n",
        "ax.plot(fpr, tpr)\n",
        "ax.plot(np.linspace(0, 1, 100),\n",
        "         np.linspace(0, 1, 100),\n",
        "         label='baseline',\n",
        "         linestyle='--')\n",
        "plt.title('Receiver Operating Characteristic Curve', fontsize=14)\n",
        "plt.ylabel('Total Positive Rate', fontsize=12)\n",
        "plt.xlabel('False Positive Rate', fontsize=12)\n",
        "plt.legend(fontsize=12);\n",
        "# As you can see, our attempt didn't quite get to perfection."
      ],
      "metadata": {
        "colab": {
          "base_uri": "https://localhost:8080/",
          "height": 492
        },
        "id": "mn_0sQJPf4a0",
        "outputId": "57cf9037-7d33-4917-9e94-62745c969999"
      },
      "execution_count": null,
      "outputs": [
        {
          "output_type": "display_data",
          "data": {
            "text/plain": [
              "<Figure size 800x500 with 1 Axes>"
            ],
            "image/png": "[encoded data removed]"
          },
          "metadata": {}
        }
      ]
    },
    {
      "cell_type": "code",
      "source": [
        "\"\"\"\n",
        "Now to test the CNN on the Harvard data set.\n",
        "Source:\n",
        "https://github.com/saikat15010/Brain-Tumor-Detection/blob/main/CNN%20on%20Harvard%20Medical%20Dataset.ipynb\n",
        "\"\"\"\n",
        "tf.test.gpu_device_name()"
      ],
      "metadata": {
        "colab": {
          "base_uri": "https://localhost:8080/",
          "height": 35
        },
        "id": "F4r3TtQgg9it",
        "outputId": "65a46af5-e8a8-4aa8-88d4-0125b686c956"
      },
      "execution_count": null,
      "outputs": [
        {
          "output_type": "execute_result",
          "data": {
            "text/plain": [
              "'/device:GPU:0'"
            ],
            "application/vnd.google.colaboratory.intrinsic+json": {
              "type": "string"
            }
          },
          "metadata": {},
          "execution_count": 4
        }
      ]
    },
    {
      "cell_type": "code",
      "source": [
        "! pip install keras-layer-normalization"
      ],
      "metadata": {
        "colab": {
          "base_uri": "https://localhost:8080/"
        },
        "id": "I_P90D6yhw8-",
        "outputId": "3c68896c-815d-4480-8552-29e3c506a929"
      },
      "execution_count": null,
      "outputs": [
        {
          "output_type": "stream",
          "name": "stdout",
          "text": [
            "Requirement already satisfied: keras-layer-normalization in /usr/local/lib/python3.10/dist-packages (0.16.0)\n",
            "Requirement already satisfied: numpy in /usr/local/lib/python3.10/dist-packages (from keras-layer-normalization) (1.23.5)\n"
          ]
        }
      ]
    },
    {
      "cell_type": "code",
      "source": [
        "import tensorflow as tf\n",
        "from tensorflow import keras\n",
        "from tensorflow.keras import layers\n",
        "import keras\n",
        "from keras.models import Sequential\n",
        "from keras.layers import Dense, Activation, Dropout, Flatten, Conv2D, MaxPooling2D, GlobalAveragePooling2D\n",
        "# from keras.layers.normalization import BatchNormalization\n",
        "from keras.layers import BatchNormalization\n",
        "# Keras must have updated their setup at some point\n",
        "import numpy as np\n",
        "tf.keras.backend.clear_session()"
      ],
      "metadata": {
        "id": "qibNVA2ghdMy"
      },
      "execution_count": null,
      "outputs": []
    },
    {
      "cell_type": "code",
      "source": [
        "#Initial  BLock of the model\n",
        "ini_input=keras.Input(shape=(512,512,3),name=\"image\")\n",
        "\n",
        "x1=layers.Conv2D(64,(22,22),strides=2)(ini_input)\n",
        "x1=layers.MaxPooling2D((4,4))(x1)\n",
        "x1=layers.BatchNormalization()(x1)\n",
        "\n",
        "x2=layers.Conv2D(128,(11,11),strides=2,padding=\"same\")(x1)\n",
        "x2=layers.MaxPooling2D((2,2))(x2)\n",
        "x2=layers.BatchNormalization()(x2)\n",
        "\n",
        "x3=layers.Conv2D(256,(7,7),strides=2,padding=\"same\")(x2)\n",
        "x3=layers.MaxPooling2D((2,2))(x3)\n",
        "x3=layers.BatchNormalization()(x3)\n",
        "\n",
        "x4=layers.Conv2D(512,(3,3),strides=2,padding=\"same\")(x3)\n",
        "x4=layers.MaxPooling2D((2,2))(x4)\n",
        "x4=layers.BatchNormalization()(x4)\n",
        "\n",
        "x5=layers.GlobalAveragePooling2D()(x4)\n",
        "x5=layers.Activation(\"relu\")(x5)\n",
        "\n",
        "x6=layers.Dense(1024,\"relu\")(x5)\n",
        "x6=layers.BatchNormalization()(x6)\n",
        "x7=layers.Dense(512,\"relu\")(x6)\n",
        "x7=layers.BatchNormalization()(x7)\n",
        "x8=layers.Dense(256,\"relu\")(x7)\n",
        "x8=layers.BatchNormalization()(x8)\n",
        "x8=layers.Dropout(.2)(x8)\n",
        "x9=layers.Dense(2)(x8)\n",
        "pred=layers.Activation(\"softmax\")(x9)\n",
        "\n",
        "model=keras.Model(inputs=ini_input,outputs=pred)\n",
        "\n",
        "model.summary()"
      ],
      "metadata": {
        "colab": {
          "base_uri": "https://localhost:8080/"
        },
        "id": "mv3RxEaVhM2j",
        "outputId": "c520c3c7-77ac-41f0-f6ee-5bbd95f70b42"
      },
      "execution_count": null,
      "outputs": [
        {
          "output_type": "stream",
          "name": "stdout",
          "text": [
            "Model: \"model\"\n",
            "_________________________________________________________________\n",
            " Layer (type)                Output Shape              Param #   \n",
            "=================================================================\n",
            " image (InputLayer)          [(None, 512, 512, 3)]     0         \n",
            "                                                                 \n",
            " conv2d (Conv2D)             (None, 246, 246, 64)      92992     \n",
            "                                                                 \n",
            " max_pooling2d (MaxPooling2  (None, 61, 61, 64)        0         \n",
            " D)                                                              \n",
            "                                                                 \n",
            " batch_normalization (Batch  (None, 61, 61, 64)        256       \n",
            " Normalization)                                                  \n",
            "                                                                 \n",
            " conv2d_1 (Conv2D)           (None, 31, 31, 128)       991360    \n",
            "                                                                 \n",
            " max_pooling2d_1 (MaxPoolin  (None, 15, 15, 128)       0         \n",
            " g2D)                                                            \n",
            "                                                                 \n",
            " batch_normalization_1 (Bat  (None, 15, 15, 128)       512       \n",
            " chNormalization)                                                \n",
            "                                                                 \n",
            " conv2d_2 (Conv2D)           (None, 8, 8, 256)         1605888   \n",
            "                                                                 \n",
            " max_pooling2d_2 (MaxPoolin  (None, 4, 4, 256)         0         \n",
            " g2D)                                                            \n",
            "                                                                 \n",
            " batch_normalization_2 (Bat  (None, 4, 4, 256)         1024      \n",
            " chNormalization)                                                \n",
            "                                                                 \n",
            " conv2d_3 (Conv2D)           (None, 2, 2, 512)         1180160   \n",
            "                                                                 \n",
            " max_pooling2d_3 (MaxPoolin  (None, 1, 1, 512)         0         \n",
            " g2D)                                                            \n",
            "                                                                 \n",
            " batch_normalization_3 (Bat  (None, 1, 1, 512)         2048      \n",
            " chNormalization)                                                \n",
            "                                                                 \n",
            " global_average_pooling2d (  (None, 512)               0         \n",
            " GlobalAveragePooling2D)                                         \n",
            "                                                                 \n",
            " activation (Activation)     (None, 512)               0         \n",
            "                                                                 \n",
            " dense (Dense)               (None, 1024)              525312    \n",
            "                                                                 \n",
            " batch_normalization_4 (Bat  (None, 1024)              4096      \n",
            " chNormalization)                                                \n",
            "                                                                 \n",
            " dense_1 (Dense)             (None, 512)               524800    \n",
            "                                                                 \n",
            " batch_normalization_5 (Bat  (None, 512)               2048      \n",
            " chNormalization)                                                \n",
            "                                                                 \n",
            " dense_2 (Dense)             (None, 256)               131328    \n",
            "                                                                 \n",
            " batch_normalization_6 (Bat  (None, 256)               1024      \n",
            " chNormalization)                                                \n",
            "                                                                 \n",
            " dropout (Dropout)           (None, 256)               0         \n",
            "                                                                 \n",
            " dense_3 (Dense)             (None, 2)                 514       \n",
            "                                                                 \n",
            " activation_1 (Activation)   (None, 2)                 0         \n",
            "                                                                 \n",
            "=================================================================\n",
            "Total params: 5063362 (19.32 MB)\n",
            "Trainable params: 5057858 (19.29 MB)\n",
            "Non-trainable params: 5504 (21.50 KB)\n",
            "_________________________________________________________________\n"
          ]
        }
      ]
    },
    {
      "cell_type": "code",
      "source": [
        "from tensorflow.keras.preprocessing.image import ImageDataGenerator\n",
        "train_datagen=ImageDataGenerator(\n",
        "    rescale=1/255,\n",
        "    shear_range = 0.2,\n",
        "    zoom_range = 0.2,\n",
        "    horizontal_flip = True,\n",
        "    width_shift_range=0.1,\n",
        "    height_shift_range=0.1,\n",
        "    vertical_flip=True,\n",
        "    validation_split=0.2)\n",
        "\n",
        "train_generator=train_datagen.flow_from_directory(data_path,\n",
        "                                                  target_size=(224,224),\n",
        "                                                  color_mode='rgb',\n",
        "                                                  shuffle=True,\n",
        "                                                  subset='training',\n",
        "                                                  batch_size=10,\n",
        "                                                  class_mode='categorical')\n",
        "val_generator = train_datagen.flow_from_directory(data_path,\n",
        "                                                  target_size=(224,224),\n",
        "                                                  color_mode='rgb',\n",
        "                                                  shuffle=True,\n",
        "                                                  subset='validation',\n",
        "                                                  batch_size=10,\n",
        "                                                  class_mode='categorical')\n",
        "\n",
        "model.compile(optimizer='Adam', loss='categorical_crossentropy', metrics=['accuracy'])"
      ],
      "metadata": {
        "colab": {
          "base_uri": "https://localhost:8080/"
        },
        "id": "KdAU2BGKi9DO",
        "outputId": "cd835720-a282-44d0-d9c1-f2d84392ab3f"
      },
      "execution_count": null,
      "outputs": [
        {
          "output_type": "stream",
          "name": "stdout",
          "text": [
            "Found 122 images belonging to 2 classes.\n",
            "Found 30 images belonging to 2 classes.\n"
          ]
        }
      ]
    },
    {
      "cell_type": "code",
      "source": [
        "print(train_generator.n)\n",
        "print(train_generator.batch_size)\n",
        "print(242//32)"
      ],
      "metadata": {
        "colab": {
          "base_uri": "https://localhost:8080/"
        },
        "id": "V3tFt5-6kw4o",
        "outputId": "1bc09f96-4089-4ba6-b244-1ae08f6edebc"
      },
      "execution_count": null,
      "outputs": [
        {
          "output_type": "stream",
          "name": "stdout",
          "text": [
            "122\n",
            "10\n",
            "7\n"
          ]
        }
      ]
    },
    {
      "cell_type": "code",
      "source": [
        "step_size_train=train_generator.n//train_generator.batch_size\n",
        "# using fit_generator caused the notebook to crash.\n",
        "# retrying this portion of work in a new notebook.\n",
        "history = model.fit_generator(generator=train_generator,\n",
        "                              steps_per_epoch=step_size_train,\n",
        "                              epochs=80,\n",
        "                              verbose=1,\n",
        "                              validation_data=val_generator)\n"
      ],
      "metadata": {
        "id": "O0OFVbvrk1VL",
        "outputId": "f5010876-e73b-4415-e4f1-fbd2eb553200",
        "colab": {
          "base_uri": "https://localhost:8080/"
        }
      },
      "execution_count": null,
      "outputs": [
        {
          "output_type": "stream",
          "name": "stdout",
          "text": [
            "Epoch 1/80\n"
          ]
        }
      ]
    }
  ],
  "metadata": {
    "colab": {
      "provenance": []
    },
    "kernelspec": {
      "display_name": "Python 3",
      "name": "python3"
    },
    "language_info": {
      "name": "python"
    }
  },
  "nbformat": 4,
  "nbformat_minor": 0
}