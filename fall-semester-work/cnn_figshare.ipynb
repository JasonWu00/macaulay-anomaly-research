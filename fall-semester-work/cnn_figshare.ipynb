{
  "nbformat": 4,
  "nbformat_minor": 0,
  "metadata": {
    "colab": {
      "provenance": [],
      "gpuType": "T4"
    },
    "kernelspec": {
      "name": "python3",
      "display_name": "Python 3"
    },
    "language_info": {
      "name": "python"
    },
    "accelerator": "GPU"
  },
  "cells": [
    {
      "cell_type": "code",
      "execution_count": null,
      "metadata": {
        "colab": {
          "base_uri": "https://localhost:8080/"
        },
        "id": "-_7LnYfGCvSA",
        "outputId": "57cce49f-adba-4d84-e003-ae334a1658ed"
      },
      "outputs": [
        {
          "output_type": "stream",
          "name": "stdout",
          "text": [
            "Mounted at /gdrive\n"
          ]
        }
      ],
      "source": [
        "\"\"\"\n",
        "a Google Colab notebook to test the CNN neural network as implemented here:\n",
        "https://github.com/saikat15010/Brain-Tumor-Detection/blob/main/CNN%20on%20Figshare%20Dataset.ipynb\n",
        "Code in this notebook is copied as closely from the source as possible, except for comments and changes\n",
        "to the file directory path due to issues specific on my end.\n",
        "\n",
        "Since the CNN on Harvard notebook is crashing on an issue I do not understand,\n",
        "I will put that on hold and try to figure this out first.\n",
        "\"\"\"\n",
        "\n",
        "from google.colab import drive\n",
        "drive.mount('/gdrive')"
      ]
    },
    {
      "cell_type": "code",
      "source": [
        "import os\n",
        "import numpy\n",
        "import matplotlib.pyplot as plt\n",
        "import h5py\n",
        "import cv2\n",
        "import tensorflow as tf\n",
        "tf.test.gpu_device_name()"
      ],
      "metadata": {
        "colab": {
          "base_uri": "https://localhost:8080/",
          "height": 35
        },
        "id": "kWvGt13DD8wG",
        "outputId": "6a23adcb-1035-4926-da88-6ce41e57503d"
      },
      "execution_count": null,
      "outputs": [
        {
          "output_type": "execute_result",
          "data": {
            "text/plain": [
              "'/device:GPU:0'"
            ],
            "application/vnd.google.colaboratory.intrinsic+json": {
              "type": "string"
            }
          },
          "metadata": {},
          "execution_count": 4
        }
      ]
    },
    {
      "cell_type": "code",
      "source": [
        "data_dir='../gdrive/MyDrive/healthcare research data/Brain_MRI2/BRAIN_DATA'\n",
        "total_image=3064\n",
        "trainindata=[]\n",
        "for i in range(1,total_image+1):\n",
        "  filename=str(i)+\".mat\"\n",
        "  data=h5py.File(os.path.join(data_dir,filename),\"r\")\n",
        "  trainindata.append(data)\n",
        "\n",
        "  if i%100==0:\n",
        "    print(filename)"
      ],
      "metadata": {
        "colab": {
          "base_uri": "https://localhost:8080/"
        },
        "id": "rswf71RiEICh",
        "outputId": "5d453c98-7ffa-41c6-f640-9e226d2711a6"
      },
      "execution_count": null,
      "outputs": [
        {
          "output_type": "stream",
          "name": "stdout",
          "text": [
            "100.mat\n",
            "200.mat\n",
            "300.mat\n",
            "400.mat\n",
            "500.mat\n",
            "600.mat\n",
            "700.mat\n",
            "800.mat\n",
            "900.mat\n",
            "1000.mat\n",
            "1100.mat\n",
            "1200.mat\n",
            "1300.mat\n",
            "1400.mat\n",
            "1500.mat\n",
            "1600.mat\n",
            "1700.mat\n",
            "1800.mat\n",
            "1900.mat\n",
            "2000.mat\n",
            "2100.mat\n",
            "2200.mat\n",
            "2300.mat\n",
            "2400.mat\n",
            "2500.mat\n",
            "2600.mat\n",
            "2700.mat\n",
            "2800.mat\n",
            "2900.mat\n",
            "3000.mat\n"
          ]
        }
      ]
    },
    {
      "cell_type": "code",
      "source": [
        "print(trainindata[5])"
      ],
      "metadata": {
        "colab": {
          "base_uri": "https://localhost:8080/"
        },
        "id": "3zgNRDruJyCy",
        "outputId": "fcd1d170-b340-47c5-fbb4-aaac7919b6c6"
      },
      "execution_count": null,
      "outputs": [
        {
          "output_type": "stream",
          "name": "stdout",
          "text": [
            "<HDF5 file \"6.mat\" (mode r)>\n"
          ]
        }
      ]
    },
    {
      "cell_type": "code",
      "source": [
        "import keras\n",
        "import random\n",
        "random.shuffle(trainindata)"
      ],
      "metadata": {
        "id": "KZlxY5_VJ01F"
      },
      "execution_count": null,
      "outputs": []
    },
    {
      "cell_type": "code",
      "source": [
        "import numpy as np\n",
        " # Now take all the image as train and test\n",
        "trainx=[]\n",
        "trainy=[]\n",
        "testx=[]\n",
        "testy=[]\n",
        "\n",
        "\"\"\"\n",
        "Note from the person replicating this:\n",
        "On one hand I feel like all of this can be done via train_test_split().\n",
        "On the other hand this is supposed to replicate the code exactly\n",
        "and not add changes that might break it.\n",
        "\n",
        "Updated from trainindata.value to trainindata[()] to resolve\n",
        "a deprecation issue.\n",
        "\"\"\"\n",
        "\n",
        "size=round(4*total_image/5) # Split the dataset into 80:20\n",
        "# For trainx and trainy\n",
        "for i in range(size):\n",
        "  image=trainindata[i][\"cjdata\"][\"image\"][()]\n",
        "  if image.shape==(512,512):\n",
        "    image=np.expand_dims(image,axis=0)\n",
        "    trainx.append(image)\n",
        "\n",
        "    label=int(trainindata[i][\"cjdata\"][\"label\"][()])-1\n",
        "    trainy.append(label)\n",
        "# For trainx and trainy\n",
        "for i in range(size,total_image):\n",
        "  image=trainindata[i][\"cjdata\"][\"image\"][()]\n",
        "  if image.shape==(512,512):\n",
        "    image=np.expand_dims(image,axis=0)\n",
        "    testx.append(image)\n",
        "\n",
        "    label=int(trainindata[i][\"cjdata\"][\"label\"][()])-1\n",
        "    testy.append(label)"
      ],
      "metadata": {
        "id": "0Pqgj011J1nL"
      },
      "execution_count": null,
      "outputs": []
    },
    {
      "cell_type": "code",
      "source": [
        "# Converting list to numpy array\n",
        "trainx=np.array(trainx).reshape(-1,512,512,1)\n",
        "testx=np.array(testx).reshape(-1,512,512,1)\n",
        "trainy=np.array(trainy)\n",
        "testy=np.array(testy)"
      ],
      "metadata": {
        "id": "cXHOGtpLKbCz"
      },
      "execution_count": null,
      "outputs": []
    },
    {
      "cell_type": "code",
      "source": [
        "print(testy)"
      ],
      "metadata": {
        "colab": {
          "base_uri": "https://localhost:8080/"
        },
        "id": "VnSxz1VNKfUd",
        "outputId": "a6ec89cd-935b-406c-85e6-75cb0c5447b3"
      },
      "execution_count": null,
      "outputs": [
        {
          "output_type": "stream",
          "name": "stdout",
          "text": [
            "[0 1 1 1 1 1 0 2 1 1 1 0 1 0 0 1 1 2 0 0 2 0 0 2 0 2 1 1 0 1 2 0 0 2 1 1 0\n",
            " 1 2 2 1 2 1 1 1 1 1 2 1 2 2 2 2 2 0 1 1 0 0 1 0 1 1 2 0 2 1 1 1 1 1 1 2 1\n",
            " 2 1 1 0 1 0 1 0 1 1 1 1 2 2 1 1 0 1 0 2 0 0 1 1 1 1 1 0 2 1 1 1 1 2 1 2 0\n",
            " 2 1 0 1 0 1 1 1 2 0 2 0 1 2 2 2 0 2 0 1 0 0 2 2 0 1 0 0 2 2 2 2 0 2 0 0 1\n",
            " 1 0 2 2 2 1 0 2 1 1 0 1 2 2 1 0 2 0 2 1 1 1 2 1 2 0 1 1 0 0 0 1 0 1 1 0 1\n",
            " 1 1 1 1 2 1 1 0 2 2 1 2 2 1 2 0 0 1 2 1 2 0 1 2 1 1 1 0 0 1 2 2 1 2 1 1 1\n",
            " 1 1 1 1 2 1 1 1 0 1 0 2 1 1 1 1 1 2 0 2 1 0 1 1 2 1 1 0 1 1 1 0 1 0 2 2 1\n",
            " 2 2 0 1 0 1 2 2 1 2 1 1 2 1 1 1 2 1 0 2 1 0 0 0 0 1 0 2 2 2 2 1 2 0 1 1 1\n",
            " 2 1 1 1 2 2 2 2 1 1 0 1 1 2 0 1 2 1 0 0 0 1 2 1 0 1 1 1 1 0 1 1 1 1 2 0 2\n",
            " 1 1 2 0 1 1 1 0 0 2 1 0 2 1 2 0 2 0 2 2 1 2 1 0 1 1 0 1 0 1 2 2 2 2 1 0 2\n",
            " 2 1 2 2 1 1 1 1 2 1 2 2 1 2 1 0 1 0 0 1 1 0 0 1 0 1 1 0 0 2 2 1 2 2 2 1 0\n",
            " 1 1 2 1 2 1 1 1 2 0 2 1 2 1 1 1 0 1 2 0 2 2 1 2 1 1 1 1 0 2 2 1 2 0 2 2 1\n",
            " 1 1 2 2 1 1 2 1 0 0 0 2 2 0 1 1 1 1 0 1 1 2 1 1 2 1 0 1 1 1 1 1 0 1 1 1 1\n",
            " 2 0 1 2 1 1 2 2 0 0 1 2 0 1 2 1 0 1 1 0 1 2 0 1 2 0 1 2 0 2 0 1 2 2 0 0 2\n",
            " 1 0 0 1 2 1 2 1 1 0 2 2 2 1 1 2 1 1 1 0 1 1 0 2 1 1 0 1 0 1 1 1 1 2 2 1 0\n",
            " 1 2 1 0 2 1 0 1 2 1 2 1 2 1 1 2 1 1 2 2 1 0 0 2 2 1 2 2 0 1 1 2 2 0 2 0 1\n",
            " 1 1 1 1 1 2 0 0 1 2 2 1 1 0 2 2 2 2 1]\n"
          ]
        }
      ]
    },
    {
      "cell_type": "code",
      "source": [
        "print(trainx.shape)\n",
        "print(testx.shape)\n",
        "print(trainy.shape)\n",
        "print(testy.shape)"
      ],
      "metadata": {
        "colab": {
          "base_uri": "https://localhost:8080/"
        },
        "id": "sSiw0RyyKjf5",
        "outputId": "0278397f-3a4c-43b0-9ac9-eaac375ddbd3"
      },
      "execution_count": null,
      "outputs": [
        {
          "output_type": "stream",
          "name": "stdout",
          "text": [
            "(2438, 512, 512, 1)\n",
            "(611, 512, 512, 1)\n",
            "(2438,)\n",
            "(611,)\n"
          ]
        }
      ]
    },
    {
      "cell_type": "code",
      "source": [
        "from tensorflow.keras import layers\n",
        "from tensorflow.keras.applications.vgg16 import VGG16\n",
        "from tensorflow.keras.applications.vgg19 import VGG19\n",
        "from tensorflow.keras.preprocessing import image\n",
        "from tensorflow.keras.applications.vgg16 import preprocess_input\n",
        "from tensorflow.keras.preprocessing.image import ImageDataGenerator\n",
        "from tensorflow.keras.models import Model\n",
        "from tensorflow.keras.optimizers import Adam"
      ],
      "metadata": {
        "id": "WLmqRv43Kz4c"
      },
      "execution_count": null,
      "outputs": []
    },
    {
      "cell_type": "code",
      "source": [
        "#Initial  BLock of the model\n",
        "\n",
        "# Added strategy scope to ward off possible multi-gpu issues.\n",
        "strategy = tf.distribute.MirroredStrategy()\n",
        "\n",
        "with strategy.scope():\n",
        "\n",
        "  ini_input=keras.Input(shape=(512,512,1),name=\"image\")\n",
        "\n",
        "  x1=layers.Conv2D(64,(22,22),strides=2)(ini_input)\n",
        "  x1=layers.MaxPooling2D((4,4))(x1)\n",
        "  x1=layers.BatchNormalization()(x1)\n",
        "\n",
        "  x2=layers.Conv2D(128,(11,11),strides=2,padding=\"same\")(x1)\n",
        "  x2=layers.MaxPooling2D((2,2))(x2)\n",
        "  x2=layers.BatchNormalization()(x2)\n",
        "\n",
        "  x3=layers.Conv2D(256,(7,7),strides=2,padding=\"same\")(x2)\n",
        "  x3=layers.MaxPooling2D((2,2))(x3)\n",
        "  x3=layers.BatchNormalization()(x3)\n",
        "\n",
        "  x4=layers.Conv2D(512,(3,3),strides=2,padding=\"same\")(x3)\n",
        "  x4=layers.MaxPooling2D((2,2))(x4)\n",
        "  x4=layers.BatchNormalization()(x4)\n",
        "\n",
        "  x5=layers.GlobalAveragePooling2D()(x4)\n",
        "  x5=layers.Activation(\"relu\")(x5)\n",
        "\n",
        "  x6=layers.Dense(1024,\"relu\")(x5)\n",
        "  x6=layers.BatchNormalization()(x6)\n",
        "  x7=layers.Dense(512,\"relu\")(x6)\n",
        "  x7=layers.BatchNormalization()(x7)\n",
        "  x8=layers.Dense(256,\"relu\")(x7)\n",
        "  x8=layers.BatchNormalization()(x8)\n",
        "  x8=layers.Dropout(.2)(x8)\n",
        "  x9=layers.Dense(3)(x8)\n",
        "  pred=layers.Activation(\"softmax\")(x9)\n",
        "\n",
        "  model=keras.Model(inputs=ini_input,outputs=pred)\n",
        "  model.compile(loss=\"sparse_categorical_crossentropy\",optimizer=\"adam\",metrics=[\"accuracy\"])\n",
        "\n",
        "model.summary()"
      ],
      "metadata": {
        "colab": {
          "base_uri": "https://localhost:8080/"
        },
        "id": "wbbMhIJ3Ko60",
        "outputId": "72ed4ceb-b4c0-4507-b981-669d93435bfa"
      },
      "execution_count": null,
      "outputs": [
        {
          "output_type": "stream",
          "name": "stdout",
          "text": [
            "Model: \"model_1\"\n",
            "_________________________________________________________________\n",
            " Layer (type)                Output Shape              Param #   \n",
            "=================================================================\n",
            " image (InputLayer)          [(None, 512, 512, 1)]     0         \n",
            "                                                                 \n",
            " conv2d_4 (Conv2D)           (None, 246, 246, 64)      31040     \n",
            "                                                                 \n",
            " max_pooling2d_4 (MaxPoolin  (None, 61, 61, 64)        0         \n",
            " g2D)                                                            \n",
            "                                                                 \n",
            " batch_normalization_7 (Bat  (None, 61, 61, 64)        256       \n",
            " chNormalization)                                                \n",
            "                                                                 \n",
            " conv2d_5 (Conv2D)           (None, 31, 31, 128)       991360    \n",
            "                                                                 \n",
            " max_pooling2d_5 (MaxPoolin  (None, 15, 15, 128)       0         \n",
            " g2D)                                                            \n",
            "                                                                 \n",
            " batch_normalization_8 (Bat  (None, 15, 15, 128)       512       \n",
            " chNormalization)                                                \n",
            "                                                                 \n",
            " conv2d_6 (Conv2D)           (None, 8, 8, 256)         1605888   \n",
            "                                                                 \n",
            " max_pooling2d_6 (MaxPoolin  (None, 4, 4, 256)         0         \n",
            " g2D)                                                            \n",
            "                                                                 \n",
            " batch_normalization_9 (Bat  (None, 4, 4, 256)         1024      \n",
            " chNormalization)                                                \n",
            "                                                                 \n",
            " conv2d_7 (Conv2D)           (None, 2, 2, 512)         1180160   \n",
            "                                                                 \n",
            " max_pooling2d_7 (MaxPoolin  (None, 1, 1, 512)         0         \n",
            " g2D)                                                            \n",
            "                                                                 \n",
            " batch_normalization_10 (Ba  (None, 1, 1, 512)         2048      \n",
            " tchNormalization)                                               \n",
            "                                                                 \n",
            " global_average_pooling2d_1  (None, 512)               0         \n",
            "  (GlobalAveragePooling2D)                                       \n",
            "                                                                 \n",
            " activation_2 (Activation)   (None, 512)               0         \n",
            "                                                                 \n",
            " dense_4 (Dense)             (None, 1024)              525312    \n",
            "                                                                 \n",
            " batch_normalization_11 (Ba  (None, 1024)              4096      \n",
            " tchNormalization)                                               \n",
            "                                                                 \n",
            " dense_5 (Dense)             (None, 512)               524800    \n",
            "                                                                 \n",
            " batch_normalization_12 (Ba  (None, 512)               2048      \n",
            " tchNormalization)                                               \n",
            "                                                                 \n",
            " dense_6 (Dense)             (None, 256)               131328    \n",
            "                                                                 \n",
            " batch_normalization_13 (Ba  (None, 256)               1024      \n",
            " tchNormalization)                                               \n",
            "                                                                 \n",
            " dropout_1 (Dropout)         (None, 256)               0         \n",
            "                                                                 \n",
            " dense_7 (Dense)             (None, 3)                 771       \n",
            "                                                                 \n",
            " activation_3 (Activation)   (None, 3)                 0         \n",
            "                                                                 \n",
            "=================================================================\n",
            "Total params: 5001667 (19.08 MB)\n",
            "Trainable params: 4996163 (19.06 MB)\n",
            "Non-trainable params: 5504 (21.50 KB)\n",
            "_________________________________________________________________\n"
          ]
        }
      ]
    },
    {
      "cell_type": "code",
      "source": [
        "r=model.fit(trainx,\n",
        "          trainy,\n",
        "          epochs=80,\n",
        "          batch_size=32,\n",
        "          verbose=1,\n",
        "          validation_data=(testx,testy),\n",
        "          shuffle=False\n",
        "          )"
      ],
      "metadata": {
        "colab": {
          "base_uri": "https://localhost:8080/"
        },
        "id": "DE39I3FsLHE9",
        "outputId": "df1d5cb0-29b1-49ec-de78-75131725f2e1"
      },
      "execution_count": null,
      "outputs": [
        {
          "output_type": "stream",
          "name": "stdout",
          "text": [
            "Epoch 1/80\n",
            "77/77 [==============================] - 35s 164ms/step - loss: 0.7461 - accuracy: 0.6993 - val_loss: 7.5727 - val_accuracy: 0.5974\n",
            "Epoch 2/80\n",
            "77/77 [==============================] - 11s 145ms/step - loss: 0.5301 - accuracy: 0.7740 - val_loss: 2.1348 - val_accuracy: 0.3928\n",
            "Epoch 3/80\n",
            "77/77 [==============================] - 10s 135ms/step - loss: 0.4404 - accuracy: 0.8158 - val_loss: 0.5328 - val_accuracy: 0.7169\n",
            "Epoch 4/80\n",
            "77/77 [==============================] - 11s 137ms/step - loss: 0.3421 - accuracy: 0.8630 - val_loss: 1.9535 - val_accuracy: 0.3912\n",
            "Epoch 5/80\n",
            "77/77 [==============================] - 10s 136ms/step - loss: 0.2547 - accuracy: 0.9011 - val_loss: 2.7451 - val_accuracy: 0.3928\n",
            "Epoch 6/80\n",
            "77/77 [==============================] - 10s 136ms/step - loss: 0.2325 - accuracy: 0.9151 - val_loss: 6.7938 - val_accuracy: 0.2537\n",
            "Epoch 7/80\n",
            "77/77 [==============================] - 11s 138ms/step - loss: 0.1971 - accuracy: 0.9282 - val_loss: 0.5478 - val_accuracy: 0.7332\n",
            "Epoch 8/80\n",
            "77/77 [==============================] - 10s 134ms/step - loss: 0.1395 - accuracy: 0.9446 - val_loss: 0.5672 - val_accuracy: 0.7545\n",
            "Epoch 9/80\n",
            "77/77 [==============================] - 10s 135ms/step - loss: 0.1058 - accuracy: 0.9619 - val_loss: 0.4917 - val_accuracy: 0.7889\n",
            "Epoch 10/80\n",
            "77/77 [==============================] - 10s 134ms/step - loss: 0.0975 - accuracy: 0.9655 - val_loss: 1.5873 - val_accuracy: 0.5761\n",
            "Epoch 11/80\n",
            "77/77 [==============================] - 11s 138ms/step - loss: 0.0937 - accuracy: 0.9676 - val_loss: 1.0673 - val_accuracy: 0.7054\n",
            "Epoch 12/80\n",
            "77/77 [==============================] - 10s 134ms/step - loss: 0.0660 - accuracy: 0.9795 - val_loss: 3.1020 - val_accuracy: 0.5155\n",
            "Epoch 13/80\n",
            "77/77 [==============================] - 10s 135ms/step - loss: 0.0820 - accuracy: 0.9717 - val_loss: 0.7608 - val_accuracy: 0.8200\n",
            "Epoch 14/80\n",
            "77/77 [==============================] - 11s 141ms/step - loss: 0.0771 - accuracy: 0.9742 - val_loss: 0.8122 - val_accuracy: 0.7398\n",
            "Epoch 15/80\n",
            "77/77 [==============================] - 11s 139ms/step - loss: 0.0551 - accuracy: 0.9795 - val_loss: 1.0177 - val_accuracy: 0.7218\n",
            "Epoch 16/80\n",
            "77/77 [==============================] - 11s 137ms/step - loss: 0.0454 - accuracy: 0.9840 - val_loss: 3.1345 - val_accuracy: 0.6285\n",
            "Epoch 17/80\n",
            "77/77 [==============================] - 10s 134ms/step - loss: 0.0328 - accuracy: 0.9889 - val_loss: 0.5695 - val_accuracy: 0.8282\n",
            "Epoch 18/80\n",
            "77/77 [==============================] - 10s 135ms/step - loss: 0.0299 - accuracy: 0.9889 - val_loss: 0.2548 - val_accuracy: 0.9280\n",
            "Epoch 19/80\n",
            "77/77 [==============================] - 10s 135ms/step - loss: 0.0156 - accuracy: 0.9959 - val_loss: 0.2894 - val_accuracy: 0.9247\n",
            "Epoch 20/80\n",
            "77/77 [==============================] - 11s 138ms/step - loss: 0.0158 - accuracy: 0.9951 - val_loss: 0.3425 - val_accuracy: 0.8854\n",
            "Epoch 21/80\n",
            "77/77 [==============================] - 10s 134ms/step - loss: 0.0208 - accuracy: 0.9922 - val_loss: 0.4045 - val_accuracy: 0.9083\n",
            "Epoch 22/80\n",
            "77/77 [==============================] - 10s 135ms/step - loss: 0.0158 - accuracy: 0.9947 - val_loss: 3.1294 - val_accuracy: 0.7087\n",
            "Epoch 23/80\n",
            "77/77 [==============================] - 10s 135ms/step - loss: 0.0465 - accuracy: 0.9836 - val_loss: 1.9494 - val_accuracy: 0.6399\n",
            "Epoch 24/80\n",
            "77/77 [==============================] - 11s 138ms/step - loss: 0.0448 - accuracy: 0.9865 - val_loss: 2.6694 - val_accuracy: 0.6694\n",
            "Epoch 25/80\n",
            "77/77 [==============================] - 10s 133ms/step - loss: 0.0204 - accuracy: 0.9918 - val_loss: 0.7041 - val_accuracy: 0.8298\n",
            "Epoch 26/80\n",
            "77/77 [==============================] - 10s 134ms/step - loss: 0.0081 - accuracy: 0.9984 - val_loss: 0.2806 - val_accuracy: 0.9214\n",
            "Epoch 27/80\n",
            "77/77 [==============================] - 10s 134ms/step - loss: 0.0132 - accuracy: 0.9963 - val_loss: 0.2798 - val_accuracy: 0.9133\n",
            "Epoch 28/80\n",
            "77/77 [==============================] - 11s 138ms/step - loss: 0.0269 - accuracy: 0.9922 - val_loss: 1.8173 - val_accuracy: 0.6759\n",
            "Epoch 29/80\n",
            "77/77 [==============================] - 10s 133ms/step - loss: 0.0516 - accuracy: 0.9840 - val_loss: 5.2634 - val_accuracy: 0.6203\n",
            "Epoch 30/80\n",
            "77/77 [==============================] - 10s 135ms/step - loss: 0.0449 - accuracy: 0.9848 - val_loss: 1.0953 - val_accuracy: 0.7709\n",
            "Epoch 31/80\n",
            "77/77 [==============================] - 10s 135ms/step - loss: 0.0102 - accuracy: 0.9979 - val_loss: 1.1926 - val_accuracy: 0.7774\n",
            "Epoch 32/80\n",
            "77/77 [==============================] - 11s 141ms/step - loss: 0.0021 - accuracy: 1.0000 - val_loss: 0.1315 - val_accuracy: 0.9574\n",
            "Epoch 33/80\n",
            "77/77 [==============================] - 11s 137ms/step - loss: 7.0187e-04 - accuracy: 1.0000 - val_loss: 0.1179 - val_accuracy: 0.9689\n",
            "Epoch 34/80\n",
            "77/77 [==============================] - 10s 134ms/step - loss: 3.7508e-04 - accuracy: 1.0000 - val_loss: 0.1254 - val_accuracy: 0.9656\n",
            "Epoch 35/80\n",
            "77/77 [==============================] - 10s 134ms/step - loss: 2.9403e-04 - accuracy: 1.0000 - val_loss: 0.1282 - val_accuracy: 0.9673\n",
            "Epoch 36/80\n",
            "77/77 [==============================] - 10s 134ms/step - loss: 2.6112e-04 - accuracy: 1.0000 - val_loss: 0.1287 - val_accuracy: 0.9656\n",
            "Epoch 37/80\n",
            "77/77 [==============================] - 11s 139ms/step - loss: 2.3099e-04 - accuracy: 1.0000 - val_loss: 0.1312 - val_accuracy: 0.9673\n",
            "Epoch 38/80\n",
            "77/77 [==============================] - 10s 134ms/step - loss: 1.9001e-04 - accuracy: 1.0000 - val_loss: 0.1320 - val_accuracy: 0.9673\n",
            "Epoch 39/80\n",
            "77/77 [==============================] - 10s 135ms/step - loss: 1.6074e-04 - accuracy: 1.0000 - val_loss: 0.1341 - val_accuracy: 0.9673\n",
            "Epoch 40/80\n",
            "77/77 [==============================] - 10s 134ms/step - loss: 1.6009e-04 - accuracy: 1.0000 - val_loss: 0.1353 - val_accuracy: 0.9673\n",
            "Epoch 41/80\n",
            "77/77 [==============================] - 11s 139ms/step - loss: 1.3097e-04 - accuracy: 1.0000 - val_loss: 0.1356 - val_accuracy: 0.9673\n",
            "Epoch 42/80\n",
            "77/77 [==============================] - 10s 133ms/step - loss: 1.1757e-04 - accuracy: 1.0000 - val_loss: 0.1352 - val_accuracy: 0.9673\n",
            "Epoch 43/80\n",
            "77/77 [==============================] - 10s 135ms/step - loss: 1.1244e-04 - accuracy: 1.0000 - val_loss: 0.1368 - val_accuracy: 0.9656\n",
            "Epoch 44/80\n",
            "77/77 [==============================] - 10s 135ms/step - loss: 9.7052e-05 - accuracy: 1.0000 - val_loss: 0.1365 - val_accuracy: 0.9673\n",
            "Epoch 45/80\n",
            "77/77 [==============================] - 11s 139ms/step - loss: 8.7945e-05 - accuracy: 1.0000 - val_loss: 0.1372 - val_accuracy: 0.9656\n",
            "Epoch 46/80\n",
            "77/77 [==============================] - 11s 138ms/step - loss: 8.5609e-05 - accuracy: 1.0000 - val_loss: 0.1417 - val_accuracy: 0.9656\n",
            "Epoch 47/80\n",
            "77/77 [==============================] - 10s 134ms/step - loss: 7.6792e-05 - accuracy: 1.0000 - val_loss: 0.1405 - val_accuracy: 0.9673\n",
            "Epoch 48/80\n",
            "77/77 [==============================] - 10s 135ms/step - loss: 7.7809e-05 - accuracy: 1.0000 - val_loss: 0.1448 - val_accuracy: 0.9656\n",
            "Epoch 49/80\n",
            "77/77 [==============================] - 10s 135ms/step - loss: 6.8913e-05 - accuracy: 1.0000 - val_loss: 0.1425 - val_accuracy: 0.9656\n",
            "Epoch 50/80\n",
            "77/77 [==============================] - 10s 136ms/step - loss: 6.6371e-05 - accuracy: 1.0000 - val_loss: 0.1421 - val_accuracy: 0.9656\n",
            "Epoch 51/80\n",
            "77/77 [==============================] - 10s 134ms/step - loss: 5.8464e-05 - accuracy: 1.0000 - val_loss: 0.1413 - val_accuracy: 0.9689\n",
            "Epoch 52/80\n",
            "77/77 [==============================] - 10s 135ms/step - loss: 5.4228e-05 - accuracy: 1.0000 - val_loss: 0.1412 - val_accuracy: 0.9689\n",
            "Epoch 53/80\n",
            "77/77 [==============================] - 10s 135ms/step - loss: 5.2412e-05 - accuracy: 1.0000 - val_loss: 0.1402 - val_accuracy: 0.9705\n",
            "Epoch 54/80\n",
            "77/77 [==============================] - 11s 139ms/step - loss: 4.6184e-05 - accuracy: 1.0000 - val_loss: 0.1420 - val_accuracy: 0.9689\n",
            "Epoch 55/80\n",
            "77/77 [==============================] - 10s 133ms/step - loss: 4.7595e-05 - accuracy: 1.0000 - val_loss: 0.1426 - val_accuracy: 0.9689\n",
            "Epoch 56/80\n",
            "77/77 [==============================] - 10s 135ms/step - loss: 4.1281e-05 - accuracy: 1.0000 - val_loss: 0.1443 - val_accuracy: 0.9673\n",
            "Epoch 57/80\n",
            "77/77 [==============================] - 10s 135ms/step - loss: 3.9767e-05 - accuracy: 1.0000 - val_loss: 0.1436 - val_accuracy: 0.9689\n",
            "Epoch 58/80\n",
            "77/77 [==============================] - 11s 139ms/step - loss: 4.1986e-05 - accuracy: 1.0000 - val_loss: 0.1457 - val_accuracy: 0.9673\n",
            "Epoch 59/80\n",
            "77/77 [==============================] - 11s 137ms/step - loss: 3.9038e-05 - accuracy: 1.0000 - val_loss: 0.1441 - val_accuracy: 0.9705\n",
            "Epoch 60/80\n",
            "77/77 [==============================] - 10s 134ms/step - loss: 3.4492e-05 - accuracy: 1.0000 - val_loss: 0.1449 - val_accuracy: 0.9689\n",
            "Epoch 61/80\n",
            "77/77 [==============================] - 10s 135ms/step - loss: 3.5133e-05 - accuracy: 1.0000 - val_loss: 0.1467 - val_accuracy: 0.9689\n",
            "Epoch 62/80\n",
            "77/77 [==============================] - 10s 135ms/step - loss: 3.2321e-05 - accuracy: 1.0000 - val_loss: 0.1471 - val_accuracy: 0.9705\n",
            "Epoch 63/80\n",
            "77/77 [==============================] - 11s 137ms/step - loss: 2.7854e-05 - accuracy: 1.0000 - val_loss: 0.1477 - val_accuracy: 0.9689\n",
            "Epoch 64/80\n",
            "77/77 [==============================] - 11s 138ms/step - loss: 2.7230e-05 - accuracy: 1.0000 - val_loss: 0.1478 - val_accuracy: 0.9689\n",
            "Epoch 65/80\n",
            "77/77 [==============================] - 10s 135ms/step - loss: 3.2976e-05 - accuracy: 1.0000 - val_loss: 0.1554 - val_accuracy: 0.9689\n",
            "Epoch 66/80\n",
            "77/77 [==============================] - 10s 134ms/step - loss: 2.6042e-05 - accuracy: 1.0000 - val_loss: 0.1507 - val_accuracy: 0.9689\n",
            "Epoch 67/80\n",
            "77/77 [==============================] - 11s 138ms/step - loss: 2.4661e-05 - accuracy: 1.0000 - val_loss: 0.1503 - val_accuracy: 0.9689\n",
            "Epoch 68/80\n",
            "77/77 [==============================] - 10s 134ms/step - loss: 2.1227e-05 - accuracy: 1.0000 - val_loss: 0.1504 - val_accuracy: 0.9689\n",
            "Epoch 69/80\n",
            "77/77 [==============================] - 10s 135ms/step - loss: 2.0936e-05 - accuracy: 1.0000 - val_loss: 0.1507 - val_accuracy: 0.9689\n",
            "Epoch 70/80\n",
            "77/77 [==============================] - 10s 135ms/step - loss: 2.0091e-05 - accuracy: 1.0000 - val_loss: 0.1513 - val_accuracy: 0.9705\n",
            "Epoch 71/80\n",
            "77/77 [==============================] - 11s 139ms/step - loss: 1.8152e-05 - accuracy: 1.0000 - val_loss: 0.1517 - val_accuracy: 0.9705\n",
            "Epoch 72/80\n",
            "77/77 [==============================] - 10s 133ms/step - loss: 1.7672e-05 - accuracy: 1.0000 - val_loss: 0.1517 - val_accuracy: 0.9705\n",
            "Epoch 73/80\n",
            "77/77 [==============================] - 10s 135ms/step - loss: 1.6457e-05 - accuracy: 1.0000 - val_loss: 0.1531 - val_accuracy: 0.9705\n",
            "Epoch 74/80\n",
            "77/77 [==============================] - 10s 135ms/step - loss: 1.4757e-05 - accuracy: 1.0000 - val_loss: 0.1528 - val_accuracy: 0.9705\n",
            "Epoch 75/80\n",
            "77/77 [==============================] - 11s 139ms/step - loss: 1.5867e-05 - accuracy: 1.0000 - val_loss: 0.1532 - val_accuracy: 0.9705\n",
            "Epoch 76/80\n",
            "77/77 [==============================] - 11s 138ms/step - loss: 1.4522e-05 - accuracy: 1.0000 - val_loss: 0.1535 - val_accuracy: 0.9705\n",
            "Epoch 77/80\n",
            "77/77 [==============================] - 10s 134ms/step - loss: 1.5174e-05 - accuracy: 1.0000 - val_loss: 0.1528 - val_accuracy: 0.9705\n",
            "Epoch 78/80\n",
            "77/77 [==============================] - 10s 135ms/step - loss: 1.2590e-05 - accuracy: 1.0000 - val_loss: 0.1532 - val_accuracy: 0.9705\n",
            "Epoch 79/80\n",
            "77/77 [==============================] - 10s 135ms/step - loss: 1.3557e-05 - accuracy: 1.0000 - val_loss: 0.1532 - val_accuracy: 0.9705\n",
            "Epoch 80/80\n",
            "77/77 [==============================] - 11s 138ms/step - loss: 1.2031e-05 - accuracy: 1.0000 - val_loss: 0.1545 - val_accuracy: 0.9705\n"
          ]
        }
      ]
    },
    {
      "cell_type": "code",
      "source": [
        "# Almost identical to source material.\n",
        "\n",
        "f, (ax1, ax2) = plt.subplots(1, 2, figsize=(12, 4))\n",
        "t = f.suptitle('Basic CNN Performance', fontsize=12)\n",
        "f.subplots_adjust(top=0.85, wspace=0.3)\n",
        "\n",
        "epoch_list = list(range(0,80))\n",
        "ax1.plot(epoch_list, r.history['accuracy'], label='Train Accuracy')\n",
        "ax1.plot(epoch_list, r.history['val_accuracy'], label='Validation Accuracy')\n",
        "ax1.set_xticks(np.arange(0, 80, 4))\n",
        "ax1.set_ylabel('Accuracy Value')\n",
        "ax1.set_xlabel('Epoch')\n",
        "ax1.set_title('Accuracy')\n",
        "l1 = ax1.legend(loc=\"best\")\n",
        "\n",
        "ax2.plot(epoch_list, r.history['loss'], label='Train Loss')\n",
        "ax2.plot(epoch_list, r.history['val_loss'], label='Validation Loss')\n",
        "ax2.set_xticks(np.arange(0, 80, 4))\n",
        "ax2.set_ylabel('Loss Value')\n",
        "ax2.set_xlabel('Epoch')\n",
        "ax2.set_title('Loss')\n",
        "l2 = ax2.legend(loc=\"best\")"
      ],
      "metadata": {
        "colab": {
          "base_uri": "https://localhost:8080/",
          "height": 428
        },
        "id": "xRIhLPbCOmy2",
        "outputId": "32c99c17-cfb5-422b-c55a-bde61c740e40"
      },
      "execution_count": null,
      "outputs": [
        {
          "output_type": "display_data",
          "data": {
            "text/plain": [
              "<Figure size 1200x400 with 2 Axes>"
            ],
            "image/png": "[encoded data removed]"
          },
          "metadata": {}
        }
      ]
    },
    {
      "cell_type": "code",
      "source": [
        "pred=model.predict(testx)\n",
        "Y_pred = np.argmax(pred, 1)\n",
        "print(Y_pred.shape, testy.shape)"
      ],
      "metadata": {
        "colab": {
          "base_uri": "https://localhost:8080/"
        },
        "id": "SNXDCC25OvN-",
        "outputId": "3e96bbff-bf1a-4167-9d4a-522b589260db"
      },
      "execution_count": null,
      "outputs": [
        {
          "output_type": "stream",
          "name": "stdout",
          "text": [
            "20/20 [==============================] - 1s 49ms/step\n",
            "(611,) (611,)\n"
          ]
        }
      ]
    },
    {
      "cell_type": "code",
      "source": [
        "from sklearn.metrics import classification_report, confusion_matrix\n",
        "print('Confusion Matrix')\n",
        "print(confusion_matrix(testy, Y_pred))\n",
        "# About as good as the source material."
      ],
      "metadata": {
        "colab": {
          "base_uri": "https://localhost:8080/"
        },
        "id": "hWhkE4c2O189",
        "outputId": "2adcf750-4f90-4e1a-d462-e70165e50ed8"
      },
      "execution_count": null,
      "outputs": [
        {
          "output_type": "stream",
          "name": "stdout",
          "text": [
            "Confusion Matrix\n",
            "[[137   5   2]\n",
            " [  7 277   1]\n",
            " [  1   2 179]]\n"
          ]
        }
      ]
    },
    {
      "cell_type": "code",
      "source": [
        "print('Classification Report')\n",
        "target_names = ['Meningioma', 'Glioma', 'Pituitary']\n",
        "print(classification_report(testy, Y_pred, target_names=target_names))\n",
        "# Once again, about as good as the original."
      ],
      "metadata": {
        "colab": {
          "base_uri": "https://localhost:8080/"
        },
        "id": "x_QTIdfMO8im",
        "outputId": "eecaa4a6-43fd-44cf-e761-5f2a27c44629"
      },
      "execution_count": null,
      "outputs": [
        {
          "output_type": "stream",
          "name": "stdout",
          "text": [
            "Classification Report\n",
            "              precision    recall  f1-score   support\n",
            "\n",
            "  Meningioma       0.94      0.95      0.95       144\n",
            "      Glioma       0.98      0.97      0.97       285\n",
            "   Pituitary       0.98      0.98      0.98       182\n",
            "\n",
            "    accuracy                           0.97       611\n",
            "   macro avg       0.97      0.97      0.97       611\n",
            "weighted avg       0.97      0.97      0.97       611\n",
            "\n"
          ]
        }
      ]
    },
    {
      "cell_type": "code",
      "source": [
        "import numpy as np\n",
        "from sklearn import metrics\n",
        "fpr, tpr, thresholds = metrics.roc_curve(testy, Y_pred, pos_label=2)\n",
        "print(metrics.auc(fpr, tpr))\n",
        "\n",
        "fig, ax = plt.subplots(figsize=(8,5))\n",
        "ax.plot(fpr, tpr)\n",
        "ax.plot(np.linspace(0, 1, 100),\n",
        "         np.linspace(0, 1, 100),\n",
        "         label='baseline',\n",
        "         linestyle='--')\n",
        "plt.title('Receiver Operating Characteristic Curve', fontsize=14)\n",
        "plt.ylabel('Total Positive Rate', fontsize=12)\n",
        "plt.xlabel('False Positive Rate', fontsize=12)\n",
        "plt.legend(fontsize=12);"
      ],
      "metadata": {
        "colab": {
          "base_uri": "https://localhost:8080/",
          "height": 509
        },
        "id": "00uTyF-2PG6w",
        "outputId": "35cb0690-44cc-458c-e659-7cc94d556cf4"
      },
      "execution_count": null,
      "outputs": [
        {
          "output_type": "stream",
          "name": "stdout",
          "text": [
            "0.9883001613770845\n"
          ]
        },
        {
          "output_type": "display_data",
          "data": {
            "text/plain": [
              "<Figure size 800x500 with 1 Axes>"
            ],
            "image/png": "[encoded data removed]"
          },
          "metadata": {}
        }
      ]
    },
    {
      "cell_type": "markdown",
      "source": [
        "Conclusion: the CNN trained on the Figshare data as used by the source material author(s) works as expected."
      ],
      "metadata": {
        "id": "ZuiPNKO5PSwm"
      }
    }
  ]
}